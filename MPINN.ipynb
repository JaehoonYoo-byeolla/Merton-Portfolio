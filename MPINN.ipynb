{
 "cells": [
  {
   "cell_type": "markdown",
   "id": "NX0HqaD4xO7c",
   "metadata": {
    "id": "NX0HqaD4xO7c"
   },
   "source": [
    "# Mertion Portfolio\n",
    "$$-\\frac{\\partial V}{\\partial \\tau} - \\frac{\\left(\\mu - r\\right)^{2}}{2 \\sigma^{2}}\\frac{\\left( \\frac{\\partial V}{\\partial x} \\right)^{2}}{\\frac{\\partial^{2} V}{\\partial x^{2}}} + \\frac{\\partial V}{\\partial x}r x + \\frac{\\gamma}{1-\\gamma}\\left(\\frac{\\partial V}{\\partial x}\\right)^\\frac{\\gamma-1}{\\gamma} = \\rho V$$"
   ]
  },
  {
   "cell_type": "code",
   "execution_count": 1,
   "id": "ed80bffe-615c-4162-a0c3-68898ba821a0",
   "metadata": {
    "id": "ed80bffe-615c-4162-a0c3-68898ba821a0"
   },
   "outputs": [],
   "source": [
    "import numpy as np\n",
    "import matplotlib.pyplot as plt\n",
    "from mpl_toolkits.mplot3d import Axes3D\n",
    "from matplotlib import cm\n",
    "\n",
    "import torch\n",
    "import torch.nn as nn\n",
    "import torch.nn.functional as F\n",
    "\n",
    "import pandas as pd\n",
    "import seaborn as sns\n",
    "\n",
    "from tqdm import tqdm"
   ]
  },
  {
   "cell_type": "markdown",
   "id": "3Ui1cvseIpPt",
   "metadata": {
    "id": "3Ui1cvseIpPt"
   },
   "source": [
    "# GPU and Seed Setting"
   ]
  },
  {
   "cell_type": "code",
   "execution_count": 2,
   "id": "332dba8e-80a8-45cb-b9a0-192c8fb01a67",
   "metadata": {
    "colab": {
     "base_uri": "https://localhost:8080/"
    },
    "id": "332dba8e-80a8-45cb-b9a0-192c8fb01a67",
    "outputId": "a5147539-2ce3-4200-8e7c-39c35a5f5d35"
   },
   "outputs": [
    {
     "name": "stdout",
     "output_type": "stream",
     "text": [
      "cuda:2\n"
     ]
    },
    {
     "data": {
      "text/plain": [
       "<torch._C.Generator at 0x7fdb8c1d8d30>"
      ]
     },
     "execution_count": 2,
     "metadata": {},
     "output_type": "execute_result"
    }
   ],
   "source": [
    "device = torch.device('cuda:2' if torch.cuda.is_available() else 'cpu')\n",
    "print(device)\n",
    "torch.manual_seed(1)"
   ]
  },
  {
   "cell_type": "markdown",
   "id": "D1Czg0a4Ifw5",
   "metadata": {
    "id": "D1Czg0a4Ifw5"
   },
   "source": [
    "# Given Parameters or Constants"
   ]
  },
  {
   "cell_type": "code",
   "execution_count": 3,
   "id": "9e560dc4-42af-4867-a5f4-f7fbf840a9dd",
   "metadata": {
    "id": "9e560dc4-42af-4867-a5f4-f7fbf840a9dd"
   },
   "outputs": [],
   "source": [
    "mu = 0.07 # drift / expected return on stock\n",
    "r = 0.01 # risk free rate\n",
    "sigma = 0.2 # volatility\n",
    "T = 1 # maturity\n",
    "gamma = 0.3 # relative risk-aversion\n",
    "rho = 0.02 # utility  discount rate\n",
    "eps = 0.1 # no bequest(small constant )\n",
    "L = 2.0; # maximum wealth\n",
    "\n",
    "n_t = 365 #number of time step\n",
    "n_x = 100 #Number of spatial grid"
   ]
  },
  {
   "cell_type": "markdown",
   "id": "ZdDLKYDVGCpI",
   "metadata": {
    "id": "ZdDLKYDVGCpI"
   },
   "source": [
    "# Mesh Generating"
   ]
  },
  {
   "cell_type": "markdown",
   "id": "aYXjGFwPGJqo",
   "metadata": {
    "id": "aYXjGFwPGJqo"
   },
   "source": [
    "## Exact Solution and Terminal Condition"
   ]
  },
  {
   "cell_type": "markdown",
   "id": "8nDgrJAMJjZz",
   "metadata": {
    "id": "8nDgrJAMJjZz"
   },
   "source": [
    "### Define Exact Solution and Exact Grid\n",
    "$$f\\left(T-\\tau\\right)^{\\gamma} \\frac{x^{1-\\gamma}}{1-\\gamma}$$\n",
    "=  \n"
   ]
  },
  {
   "cell_type": "code",
   "execution_count": 4,
   "id": "978c2ba2-b0e2-492b-866c-63dcd93b7424",
   "metadata": {
    "id": "978c2ba2-b0e2-492b-866c-63dcd93b7424"
   },
   "outputs": [],
   "source": [
    "def exact_sol(t, x, mu, gamma, eps, sigma, r):\n",
    "    '''\n",
    "    Return optimal value function i.e. V^*(t, W_t)\n",
    "\n",
    "    Parameters\n",
    "    --------------\n",
    "    t : time mesh\n",
    "    x : spatial mesh\n",
    "    mu : mu\n",
    "    gamma : gamma\n",
    "    eps : epsilon\n",
    "    sigma : sigma\n",
    "    r : r\n",
    "\n",
    "    Return\n",
    "    ----------\n",
    "    f(t) * x^{1-\\gamma}/1-\\gamma\n",
    "    '''\n",
    "    nu = rho - (1. - gamma) * ((mu - r)**2 / (2. * sigma**2 * gamma) + r)  # sth factor of f' = nu f - 1\n",
    "    nu =(-1)* nu / gamma\n",
    "    # V = (1. + (nu * eps - 1.) * torch.exp(-nu * (T - t)))**gamma\n",
    "    # V = (1. + (nu * eps - 1.) * torch.exp(-nu * (T - t))) / nu\n",
    "    V = (-1. + (nu * eps + 1.) * torch.exp(nu * t)) / nu\n",
    "    V = V ** gamma\n",
    "    # print(V)\n",
    "    V *= x**(1. - gamma) / (1. - gamma)\n",
    "    return V"
   ]
  },
  {
   "cell_type": "markdown",
   "id": "B4sPT5h0ISsj",
   "metadata": {
    "id": "B4sPT5h0ISsj"
   },
   "source": [
    "### Initial Condition and Its grid\n",
    "$$\\epsilon^{\\gamma} \\frac{x^{1-\\gamma}}{1-\\gamma}$$"
   ]
  },
  {
   "cell_type": "code",
   "execution_count": 5,
   "id": "BY-x4zjFKBol",
   "metadata": {
    "id": "BY-x4zjFKBol"
   },
   "outputs": [],
   "source": [
    "def initial_cond(x, gamma, eps):\n",
    "    '''Terminal_condition\n",
    "\n",
    "    Parameters\n",
    "    -------------\n",
    "    x : spatial mesh\n",
    "    gamma : gamma\n",
    "    eps : epsilon\n",
    "\n",
    "    Return\n",
    "    -----------\n",
    "    Terminal condition  \\epsilon^{\\gamma} \\frac{x^{1-\\gamma}}{1-\\gamma}\n",
    "    '''\n",
    "\n",
    "    return eps**gamma * x**(1-gamma)/(1-gamma)"
   ]
  },
  {
   "cell_type": "markdown",
   "id": "aEnqvdHqjIlW",
   "metadata": {
    "id": "aEnqvdHqjIlW"
   },
   "source": [
    "## Mesh generating"
   ]
  },
  {
   "cell_type": "code",
   "execution_count": 6,
   "id": "12d75657-5742-455c-baa6-d4de53d8bb89",
   "metadata": {
    "id": "12d75657-5742-455c-baa6-d4de53d8bb89"
   },
   "outputs": [],
   "source": [
    "def mesh_generating(L, T, n_x, n_t, eps, gamma, sigma, r):\n",
    "    '''Make a mesh.\n",
    "    Parameters\n",
    "    ------------------\n",
    "    L : Maximum Wealth\n",
    "    T : Maturity\n",
    "    n_x : spatial number\n",
    "    n_t : time number\n",
    "    eps : epsilon\n",
    "    gamma : gamma\n",
    "    sigma : sigma,\n",
    "    r\n",
    "    \n",
    "    Returns\n",
    "    -------------\n",
    "    tx, tx_grid, x_init, x_bdry, v_init, v_bdry\n",
    "    '''\n",
    "    \n",
    "    ep = 1e-5 # For non zero x\n",
    "    t = torch.linspace(0, T, n_t)  # Input data for t (n_t x 1) (0, T)\n",
    "    # x = torch.linspace(ep, L, n_x) # Input data for t (n_x x 1) (ep, L)\n",
    "    x = torch.linspace(0, L, n_x) # Input data for t (n_x x 1) (ep, L)\n",
    "    tx = torch.meshgrid(t, x, indexing='ij') # Get a meshgrid\n",
    "    \n",
    "    tx_grid = torch.cat([tx[0].reshape(-1, 1), tx[1].reshape(-1,1)], dim=1) # get grid in two columbs in order to t and x\n",
    "    true_grid = torch.meshgrid(t[1:], x[1:-1])\n",
    "    true_grid = torch.cat([true_grid[0].reshape(-1, 1), true_grid[1].reshape(-1,1)], dim=1) # get grid in two columbs in order to t and x\n",
    "\n",
    "    x_init = tx_grid[tx_grid[:, 0]==0] # space domain of the terminal time\n",
    "    x_bdry = tx_grid[torch.logical_or((tx_grid[:, 1]==0), (tx_grid[:, 1]==L))] # Boundary of the domain\n",
    "    # print(x_bdry[:, 1])\n",
    "    v_init = initial_cond(x_init[:,1], gamma, eps).view(-1, 1)\n",
    "    # v_bdry = torch.zeros_like(x_bdry[:, 0].view(-1,1))\n",
    "    # print(v_bdry)\n",
    "    ex_sol = exact_sol(x_bdry[:, 0], x_bdry[:, 1], mu, gamma, eps, sigma, r).view(-1, 1)\n",
    "    v_bdry = ex_sol\n",
    "    # print(ex_sol)\n",
    "\n",
    "    return tx, tx_grid, x_init, x_bdry, v_init, v_bdry, true_grid\n",
    "\n"
   ]
  },
  {
   "cell_type": "code",
   "execution_count": 7,
   "id": "1f4ec10a-e51c-4d4f-b313-b54429dc28c7",
   "metadata": {},
   "outputs": [
    {
     "name": "stderr",
     "output_type": "stream",
     "text": [
      "/opt/ohpc/pub/python/3.11.2/lib/python3.11/site-packages/torch/functional.py:504: UserWarning: torch.meshgrid: in an upcoming release, it will be required to pass the indexing argument. (Triggered internally at ../aten/src/ATen/native/TensorShape.cpp:3483.)\n",
      "  return _VF.meshgrid(tensors, **kwargs)  # type: ignore[attr-defined]\n"
     ]
    }
   ],
   "source": [
    "tot_grid, tx_grid, x_init, x_bdry, v_init, v_bdry, true_grid = mesh_generating(L, T, n_x, n_t, eps, gamma, sigma, r)"
   ]
  },
  {
   "cell_type": "code",
   "execution_count": 9,
   "id": "fddc5671-15b5-4002-b57e-875c29bd2d4f",
   "metadata": {},
   "outputs": [
    {
     "data": {
      "image/png": "[encoded data removed]",
      "text/plain": [
       "<Figure size 700x700 with 1 Axes>"
      ]
     },
     "metadata": {},
     "output_type": "display_data"
    }
   ],
   "source": [
    "plt.figure(figsize=(7,7))\n",
    "plt.plot(tx_grid[:,0], tx_grid[:,1], 'co', markersize=3, label='uniform grid')\n",
    "plt.plot(x_init[:,0], x_init[:,1], 'bo', markersize=3, label='initial points')\n",
    "plt.plot(x_bdry[:,0], x_bdry[:,1], 'ro', markersize=3, label='boundary points')\n",
    "plt.legend(loc='center right', fontsize=15)\n",
    "plt.title('Uniform Grid', fontsize=15)\n",
    "plt.xlabel('t', fontsize=15)\n",
    "plt.ylabel('x', fontsize=15)\n",
    "plt.savefig('burgers_data', dpi=100)"
   ]
  },
  {
   "cell_type": "markdown",
   "id": "vm9VYAs9uLf4",
   "metadata": {
    "id": "vm9VYAs9uLf4"
   },
   "source": [
    "# Autograd and Plug in"
   ]
  },
  {
   "cell_type": "markdown",
   "id": "bwHYYb4Uys_d",
   "metadata": {
    "id": "bwHYYb4Uys_d"
   },
   "source": [
    "## Autograd"
   ]
  },
  {
   "cell_type": "code",
   "execution_count": 9,
   "id": "M0FXGUHruOmO",
   "metadata": {
    "id": "M0FXGUHruOmO"
   },
   "outputs": [],
   "source": [
    "def derivative(y, t):\n",
    "    return torch.autograd.grad(y, t, create_graph=True,\\\n",
    "                               grad_outputs=torch.ones(y.size()).to(device))[0]"
   ]
  },
  {
   "cell_type": "markdown",
   "id": "Rk6AbFqQyupj",
   "metadata": {
    "id": "Rk6AbFqQyupj"
   },
   "source": [
    "## PDE"
   ]
  },
  {
   "cell_type": "code",
   "execution_count": 10,
   "id": "pRqNjlX-yyOs",
   "metadata": {
    "id": "pRqNjlX-yyOs"
   },
   "outputs": [],
   "source": [
    "def given_PDE(v, v_t, v_x, v_xx, mu, r, sigma, x, gamma, rho, t=None):\n",
    "    '''PDE\n",
    "\n",
    "    Parameters\n",
    "    --------------\n",
    "    v_t :\n",
    "    v_x :\n",
    "    v_xx :\n",
    "    mu :\n",
    "    r :\n",
    "    sigma :\n",
    "    x :\n",
    "    gamma :\n",
    "    rho :\n",
    "    t=None Actually do not need\n",
    "\n",
    "    Returns\n",
    "    ----------------\n",
    "    PDE\n",
    "    '''\n",
    "\n",
    "    return -v_t - (mu - r)**2 / (2. * sigma**2) * v_x**2 / v_xx \\\n",
    "    + v_x * r * x + gamma / (1. - gamma) * v_x*((gamma - 1.)/gamma) - rho * v"
   ]
  },
  {
   "cell_type": "markdown",
   "id": "wjHsJQ4YLAfx",
   "metadata": {
    "id": "wjHsJQ4YLAfx"
   },
   "source": [
    "# PINN"
   ]
  },
  {
   "cell_type": "code",
   "execution_count": 11,
   "id": "5aac73a8-e815-4e8a-a82c-01e029b2841c",
   "metadata": {
    "id": "5aac73a8-e815-4e8a-a82c-01e029b2841c"
   },
   "outputs": [],
   "source": [
    "class MPINN(nn.Module):\n",
    "    \"\"\"Merton Portfolio Model using PINN\n",
    "\n",
    "    Initializing Parameters\n",
    "    -----------\n",
    "    n_x : spatial number\n",
    "\n",
    "    Attributes\n",
    "    ---------------\n",
    "    forward\n",
    "    \"\"\"\n",
    "    def __init__(self, hidden_dims):\n",
    "        '''initializing'''\n",
    "        super(MPINN, self).__init__()\n",
    "        self.layers = []\n",
    "        for i in range(len(hidden_dims)-1):\n",
    "            self.layers.append(nn.Linear(hidden_dims[i], hidden_dims[i+1]))\n",
    "        self.layers = nn.ModuleList(self.layers)\n",
    "\n",
    "        for layer in self.layers:\n",
    "            nn.init.xavier_uniform_(layer.weight)\n",
    "\n",
    "        # self.act = nn.Tanh()\n",
    "        # self.act = nn.PReLU()\n",
    "        # self.act = nn.ReLU()\n",
    "        self.act = nn.Sigmoid()\n",
    "\n",
    "    def forward(self, x):\n",
    "        # x = nn.functional.softplus(x) # log(1+exp(x)) 0 제거\n",
    "        # return torch.exp(self.net(t)) # V^* = eps^gamma * e^g(t) * (log(1+e^x))^{1-gamma} / (1-gamma)\n",
    "        # return torch.exp(self.net)\n",
    "\n",
    "        for layer in self.layers[:-1]:\n",
    "            x = self.act(layer(x))\n",
    "\n",
    "        x = self.layers[-1](x)\n",
    "\n",
    "        return x\n",
    "\n"
   ]
  },
  {
   "cell_type": "markdown",
   "id": "21vPV-O1LUkr",
   "metadata": {
    "id": "21vPV-O1LUkr"
   },
   "source": [
    "## Instance of the PINN"
   ]
  },
  {
   "cell_type": "code",
   "execution_count": 12,
   "id": "MnIbT-JuLTZ-",
   "metadata": {
    "id": "MnIbT-JuLTZ-"
   },
   "outputs": [],
   "source": [
    "model = MPINN(hidden_dims=[2, 200, 200, 200, 200, 1])"
   ]
  },
  {
   "cell_type": "markdown",
   "id": "pzMO8xnDn1pS",
   "metadata": {
    "id": "pzMO8xnDn1pS"
   },
   "source": [
    "# Pass to GPU"
   ]
  },
  {
   "cell_type": "code",
   "execution_count": 13,
   "id": "4Aq47x9xnUwT",
   "metadata": {
    "id": "4Aq47x9xnUwT"
   },
   "outputs": [],
   "source": [
    "model = model.to(device)\n",
    "\n",
    "# tx_grid = tx_grid.to(device).requires_grad_(True)\n",
    "true_grid = true_grid.to(device).requires_grad_(True)\n",
    "\n",
    "x_init = x_init.to(device)                             # Pass data to GPU\n",
    "v_init = v_init.to(device)                             # Pass data to GPU\n",
    "x_bdry = x_bdry.to(device)                             # Pass data to GPU\n",
    "v_bdry = v_bdry.to(device)                             # Pass data to GPU"
   ]
  },
  {
   "cell_type": "markdown",
   "id": "5519426c-69b6-4ea5-8ed0-dcd8c64a962f",
   "metadata": {
    "id": "5519426c-69b6-4ea5-8ed0-dcd8c64a962f"
   },
   "source": [
    "def get_loss_tc(model, t_tc, x_tc):\n",
    "    u_sol_tc = get_sol_tc(t_tc, x_tc)\n",
    "    u_pred_tc = model(t_tc, x_tc)\n",
    "    loss = F.mse_loss(u_sol_tc, u_pred_tc)\n",
    "    return loss\n",
    "\n",
    "t_tc, x_tc = gen_t_x_tc()   \n",
    "t_tc = x_tc.cuda()\n",
    "x_tc = t_tc.cuda()\n",
    "get_loss_tc(model, t_tc, x_tc)"
   ]
  },
  {
   "cell_type": "markdown",
   "id": "Gk6jCYIaL1So",
   "metadata": {
    "id": "Gk6jCYIaL1So"
   },
   "source": [
    "# Optimizer and Loss function"
   ]
  },
  {
   "cell_type": "code",
   "execution_count": 14,
   "id": "3_0JP160L64C",
   "metadata": {
    "id": "3_0JP160L64C"
   },
   "outputs": [],
   "source": [
    "optimizer = torch.optim.Adam(model.parameters(), lr=1e-3) ## Using optimizer Adam with learning rate 1e-3\n",
    "\n",
    "loss_fn = nn.MSELoss() # According to the paper it will be not enough\n",
    "# loss_fn = nn.nanmean() #### 허정규 교수님 loss\n"
   ]
  },
  {
   "cell_type": "markdown",
   "id": "jft8ddzgMDdg",
   "metadata": {
    "id": "jft8ddzgMDdg"
   },
   "source": [
    "# Model Training"
   ]
  },
  {
   "cell_type": "code",
   "execution_count": 15,
   "id": "e13674bf-8e34-4d91-b545-3397cc027a73",
   "metadata": {
    "id": "e13674bf-8e34-4d91-b545-3397cc027a73"
   },
   "outputs": [],
   "source": [
    "model.train() # To Train\n",
    "\n",
    "epochs = 10000"
   ]
  },
  {
   "cell_type": "code",
   "execution_count": 16,
   "id": "q8QS7p-bpYqD",
   "metadata": {
    "colab": {
     "background_save": true,
     "base_uri": "https://localhost:8080/"
    },
    "id": "q8QS7p-bpYqD",
    "outputId": "db0a5db1-6f9d-4009-f4dd-85ea2305497e"
   },
   "outputs": [
    {
     "name": "stderr",
     "output_type": "stream",
     "text": [
      "  1%|          | 105/10000 [00:03<04:26, 37.19it/s]"
     ]
    },
    {
     "name": "stdout",
     "output_type": "stream",
     "text": [
      "Epoch        100, Loss: loss init 7.10060e-02,  loss bdry 2.96676e-01, loss_ge 2.58747e-01\n"
     ]
    },
    {
     "name": "stderr",
     "output_type": "stream",
     "text": [
      "  2%|▏         | 205/10000 [00:06<04:22, 37.26it/s]"
     ]
    },
    {
     "name": "stdout",
     "output_type": "stream",
     "text": [
      "Epoch        200, Loss: loss init 8.44845e-02,  loss bdry 2.33030e-01, loss_ge 4.79703e-02\n"
     ]
    },
    {
     "name": "stderr",
     "output_type": "stream",
     "text": [
      "  3%|▎         | 305/10000 [00:08<04:25, 36.56it/s]"
     ]
    },
    {
     "name": "stdout",
     "output_type": "stream",
     "text": [
      "Epoch        300, Loss: loss init 6.99626e-02,  loss bdry 2.19127e-01, loss_ge 5.08907e-02\n"
     ]
    },
    {
     "name": "stderr",
     "output_type": "stream",
     "text": [
      "  4%|▍         | 405/10000 [00:11<04:19, 36.96it/s]"
     ]
    },
    {
     "name": "stdout",
     "output_type": "stream",
     "text": [
      "Epoch        400, Loss: loss init 6.20959e-02,  loss bdry 1.08574e-01, loss_ge 1.00608e-02\n"
     ]
    },
    {
     "name": "stderr",
     "output_type": "stream",
     "text": [
      "  5%|▌         | 505/10000 [00:14<04:12, 37.59it/s]"
     ]
    },
    {
     "name": "stdout",
     "output_type": "stream",
     "text": [
      "Epoch        500, Loss: loss init 3.60700e-02,  loss bdry 6.95353e-02, loss_ge 8.99598e-03\n"
     ]
    },
    {
     "name": "stderr",
     "output_type": "stream",
     "text": [
      "  6%|▌         | 605/10000 [00:16<04:09, 37.64it/s]"
     ]
    },
    {
     "name": "stdout",
     "output_type": "stream",
     "text": [
      "Epoch        600, Loss: loss init 4.10352e-02,  loss bdry 5.23546e-02, loss_ge 5.16871e-03\n"
     ]
    },
    {
     "name": "stderr",
     "output_type": "stream",
     "text": [
      "  7%|▋         | 705/10000 [00:19<04:07, 37.63it/s]"
     ]
    },
    {
     "name": "stdout",
     "output_type": "stream",
     "text": [
      "Epoch        700, Loss: loss init 3.90963e-02,  loss bdry 4.79769e-02, loss_ge 1.94134e-03\n"
     ]
    },
    {
     "name": "stderr",
     "output_type": "stream",
     "text": [
      "  8%|▊         | 805/10000 [00:22<04:08, 36.99it/s]"
     ]
    },
    {
     "name": "stdout",
     "output_type": "stream",
     "text": [
      "Epoch        800, Loss: loss init 3.92795e-02,  loss bdry 4.58289e-02, loss_ge 9.32596e-04\n"
     ]
    },
    {
     "name": "stderr",
     "output_type": "stream",
     "text": [
      "  9%|▉         | 905/10000 [00:25<04:07, 36.81it/s]"
     ]
    },
    {
     "name": "stdout",
     "output_type": "stream",
     "text": [
      "Epoch        900, Loss: loss init 3.95428e-02,  loss bdry 4.52904e-02, loss_ge 8.64398e-03\n"
     ]
    },
    {
     "name": "stderr",
     "output_type": "stream",
     "text": [
      " 10%|█         | 1005/10000 [00:27<04:00, 37.46it/s]"
     ]
    },
    {
     "name": "stdout",
     "output_type": "stream",
     "text": [
      "Epoch       1000, Loss: loss init 3.84690e-02,  loss bdry 4.37831e-02, loss_ge 5.14734e-03\n"
     ]
    },
    {
     "name": "stderr",
     "output_type": "stream",
     "text": [
      " 11%|█         | 1105/10000 [00:30<03:58, 37.30it/s]"
     ]
    },
    {
     "name": "stdout",
     "output_type": "stream",
     "text": [
      "Epoch       1100, Loss: loss init 3.78012e-02,  loss bdry 4.19875e-02, loss_ge 3.01520e-03\n"
     ]
    },
    {
     "name": "stderr",
     "output_type": "stream",
     "text": [
      " 12%|█▏        | 1205/10000 [00:33<03:55, 37.37it/s]"
     ]
    },
    {
     "name": "stdout",
     "output_type": "stream",
     "text": [
      "Epoch       1200, Loss: loss init 3.66236e-02,  loss bdry 4.08629e-02, loss_ge 3.66840e-03\n"
     ]
    },
    {
     "name": "stderr",
     "output_type": "stream",
     "text": [
      " 13%|█▎        | 1305/10000 [00:35<03:52, 37.35it/s]"
     ]
    },
    {
     "name": "stdout",
     "output_type": "stream",
     "text": [
      "Epoch       1300, Loss: loss init 3.58311e-02,  loss bdry 3.88247e-02, loss_ge 2.36446e-03\n"
     ]
    },
    {
     "name": "stderr",
     "output_type": "stream",
     "text": [
      " 14%|█▍        | 1405/10000 [00:38<03:51, 37.08it/s]"
     ]
    },
    {
     "name": "stdout",
     "output_type": "stream",
     "text": [
      "Epoch       1400, Loss: loss init 3.44197e-02,  loss bdry 3.70587e-02, loss_ge 2.06900e-03\n"
     ]
    },
    {
     "name": "stderr",
     "output_type": "stream",
     "text": [
      " 15%|█▌        | 1505/10000 [00:41<03:54, 36.22it/s]"
     ]
    },
    {
     "name": "stdout",
     "output_type": "stream",
     "text": [
      "Epoch       1500, Loss: loss init 3.31172e-02,  loss bdry 3.49264e-02, loss_ge 1.95066e-03\n"
     ]
    },
    {
     "name": "stderr",
     "output_type": "stream",
     "text": [
      " 16%|█▌        | 1605/10000 [00:43<03:46, 37.01it/s]"
     ]
    },
    {
     "name": "stdout",
     "output_type": "stream",
     "text": [
      "Epoch       1600, Loss: loss init 3.17679e-02,  loss bdry 3.27557e-02, loss_ge 5.57439e-03\n"
     ]
    },
    {
     "name": "stderr",
     "output_type": "stream",
     "text": [
      " 17%|█▋        | 1705/10000 [00:46<03:42, 37.24it/s]"
     ]
    },
    {
     "name": "stdout",
     "output_type": "stream",
     "text": [
      "Epoch       1700, Loss: loss init 3.01124e-02,  loss bdry 2.92248e-02, loss_ge 4.70933e-03\n"
     ]
    },
    {
     "name": "stderr",
     "output_type": "stream",
     "text": [
      " 18%|█▊        | 1805/10000 [00:49<03:42, 36.91it/s]"
     ]
    },
    {
     "name": "stdout",
     "output_type": "stream",
     "text": [
      "Epoch       1800, Loss: loss init 2.81566e-02,  loss bdry 2.51033e-02, loss_ge 1.76533e-03\n"
     ]
    },
    {
     "name": "stderr",
     "output_type": "stream",
     "text": [
      " 19%|█▉        | 1905/10000 [00:52<03:38, 37.02it/s]"
     ]
    },
    {
     "name": "stdout",
     "output_type": "stream",
     "text": [
      "Epoch       1900, Loss: loss init 2.56957e-02,  loss bdry 2.20559e-02, loss_ge 2.13371e-03\n"
     ]
    },
    {
     "name": "stderr",
     "output_type": "stream",
     "text": [
      " 20%|██        | 2005/10000 [00:54<03:33, 37.37it/s]"
     ]
    },
    {
     "name": "stdout",
     "output_type": "stream",
     "text": [
      "Epoch       2000, Loss: loss init 2.28257e-02,  loss bdry 1.84840e-02, loss_ge 2.87164e-03\n"
     ]
    },
    {
     "name": "stderr",
     "output_type": "stream",
     "text": [
      " 21%|██        | 2105/10000 [00:57<03:34, 36.82it/s]"
     ]
    },
    {
     "name": "stdout",
     "output_type": "stream",
     "text": [
      "Epoch       2100, Loss: loss init 2.04430e-02,  loss bdry 1.50974e-02, loss_ge 1.65057e-03\n"
     ]
    },
    {
     "name": "stderr",
     "output_type": "stream",
     "text": [
      " 22%|██▏       | 2205/10000 [01:00<03:35, 36.12it/s]"
     ]
    },
    {
     "name": "stdout",
     "output_type": "stream",
     "text": [
      "Epoch       2200, Loss: loss init 2.10951e-02,  loss bdry 1.17098e-02, loss_ge 5.21720e-02\n"
     ]
    },
    {
     "name": "stderr",
     "output_type": "stream",
     "text": [
      " 23%|██▎       | 2305/10000 [01:02<03:26, 37.32it/s]"
     ]
    },
    {
     "name": "stdout",
     "output_type": "stream",
     "text": [
      "Epoch       2300, Loss: loss init 2.06511e-02,  loss bdry 1.74712e-02, loss_ge 1.19672e-03\n"
     ]
    },
    {
     "name": "stderr",
     "output_type": "stream",
     "text": [
      " 24%|██▍       | 2405/10000 [01:05<03:25, 36.88it/s]"
     ]
    },
    {
     "name": "stdout",
     "output_type": "stream",
     "text": [
      "Epoch       2400, Loss: loss init 1.83651e-02,  loss bdry 1.09932e-02, loss_ge 8.42736e-04\n"
     ]
    },
    {
     "name": "stderr",
     "output_type": "stream",
     "text": [
      " 25%|██▌       | 2505/10000 [01:08<03:20, 37.42it/s]"
     ]
    },
    {
     "name": "stdout",
     "output_type": "stream",
     "text": [
      "Epoch       2500, Loss: loss init 1.52555e-02,  loss bdry 8.31295e-03, loss_ge 1.60690e-03\n"
     ]
    },
    {
     "name": "stderr",
     "output_type": "stream",
     "text": [
      " 26%|██▌       | 2605/10000 [01:10<03:18, 37.27it/s]"
     ]
    },
    {
     "name": "stdout",
     "output_type": "stream",
     "text": [
      "Epoch       2600, Loss: loss init 6.91360e-02,  loss bdry 1.94772e-01, loss_ge 5.26561e-02\n"
     ]
    },
    {
     "name": "stderr",
     "output_type": "stream",
     "text": [
      " 27%|██▋       | 2705/10000 [01:13<03:17, 36.88it/s]"
     ]
    },
    {
     "name": "stdout",
     "output_type": "stream",
     "text": [
      "Epoch       2700, Loss: loss init 1.85089e-02,  loss bdry 1.85664e-02, loss_ge 3.45355e-03\n"
     ]
    },
    {
     "name": "stderr",
     "output_type": "stream",
     "text": [
      " 28%|██▊       | 2805/10000 [01:16<03:18, 36.33it/s]"
     ]
    },
    {
     "name": "stdout",
     "output_type": "stream",
     "text": [
      "Epoch       2800, Loss: loss init 1.89440e-02,  loss bdry 1.36282e-02, loss_ge 2.01152e-03\n"
     ]
    },
    {
     "name": "stderr",
     "output_type": "stream",
     "text": [
      " 29%|██▉       | 2905/10000 [01:19<03:11, 37.14it/s]"
     ]
    },
    {
     "name": "stdout",
     "output_type": "stream",
     "text": [
      "Epoch       2900, Loss: loss init 1.67193e-02,  loss bdry 1.16179e-02, loss_ge 4.25649e-03\n"
     ]
    },
    {
     "name": "stderr",
     "output_type": "stream",
     "text": [
      " 30%|███       | 3005/10000 [01:21<03:06, 37.46it/s]"
     ]
    },
    {
     "name": "stdout",
     "output_type": "stream",
     "text": [
      "Epoch       3000, Loss: loss init 1.75143e-02,  loss bdry 9.49487e-03, loss_ge 1.21955e-02\n"
     ]
    },
    {
     "name": "stderr",
     "output_type": "stream",
     "text": [
      " 31%|███       | 3105/10000 [01:24<03:11, 36.03it/s]"
     ]
    },
    {
     "name": "stdout",
     "output_type": "stream",
     "text": [
      "Epoch       3100, Loss: loss init 1.54851e-02,  loss bdry 7.74859e-03, loss_ge 1.33992e-02\n"
     ]
    },
    {
     "name": "stderr",
     "output_type": "stream",
     "text": [
      " 32%|███▏      | 3205/10000 [01:27<03:07, 36.15it/s]"
     ]
    },
    {
     "name": "stdout",
     "output_type": "stream",
     "text": [
      "Epoch       3200, Loss: loss init 1.26098e-02,  loss bdry 6.30555e-03, loss_ge 1.21929e-03\n"
     ]
    },
    {
     "name": "stderr",
     "output_type": "stream",
     "text": [
      " 33%|███▎      | 3305/10000 [01:30<03:03, 36.53it/s]"
     ]
    },
    {
     "name": "stdout",
     "output_type": "stream",
     "text": [
      "Epoch       3300, Loss: loss init 1.07230e-02,  loss bdry 5.08520e-03, loss_ge 8.28607e-04\n"
     ]
    },
    {
     "name": "stderr",
     "output_type": "stream",
     "text": [
      " 34%|███▍      | 3405/10000 [01:32<02:59, 36.77it/s]"
     ]
    },
    {
     "name": "stdout",
     "output_type": "stream",
     "text": [
      "Epoch       3400, Loss: loss init 9.94424e-03,  loss bdry 5.76333e-03, loss_ge 1.14760e-02\n"
     ]
    },
    {
     "name": "stderr",
     "output_type": "stream",
     "text": [
      " 35%|███▌      | 3505/10000 [01:35<02:55, 37.02it/s]"
     ]
    },
    {
     "name": "stdout",
     "output_type": "stream",
     "text": [
      "Epoch       3500, Loss: loss init 8.65949e-03,  loss bdry 3.83703e-03, loss_ge 1.91948e-03\n"
     ]
    },
    {
     "name": "stderr",
     "output_type": "stream",
     "text": [
      " 36%|███▌      | 3605/10000 [01:38<02:54, 36.72it/s]"
     ]
    },
    {
     "name": "stdout",
     "output_type": "stream",
     "text": [
      "Epoch       3600, Loss: loss init 7.63163e-03,  loss bdry 4.34949e-03, loss_ge 4.79871e-03\n"
     ]
    },
    {
     "name": "stderr",
     "output_type": "stream",
     "text": [
      " 37%|███▋      | 3705/10000 [01:41<02:51, 36.63it/s]"
     ]
    },
    {
     "name": "stdout",
     "output_type": "stream",
     "text": [
      "Epoch       3700, Loss: loss init 7.17038e-03,  loss bdry 4.52155e-03, loss_ge 1.51669e-03\n"
     ]
    },
    {
     "name": "stderr",
     "output_type": "stream",
     "text": [
      " 38%|███▊      | 3805/10000 [01:43<02:45, 37.39it/s]"
     ]
    },
    {
     "name": "stdout",
     "output_type": "stream",
     "text": [
      "Epoch       3800, Loss: loss init 6.48506e-03,  loss bdry 3.46519e-03, loss_ge 1.16973e-03\n"
     ]
    },
    {
     "name": "stderr",
     "output_type": "stream",
     "text": [
      " 39%|███▉      | 3905/10000 [01:46<02:47, 36.43it/s]"
     ]
    },
    {
     "name": "stdout",
     "output_type": "stream",
     "text": [
      "Epoch       3900, Loss: loss init 6.27022e-03,  loss bdry 3.45170e-03, loss_ge 6.11202e-03\n"
     ]
    },
    {
     "name": "stderr",
     "output_type": "stream",
     "text": [
      " 40%|████      | 4005/10000 [01:49<02:44, 36.43it/s]"
     ]
    },
    {
     "name": "stdout",
     "output_type": "stream",
     "text": [
      "Epoch       4000, Loss: loss init 5.74915e-03,  loss bdry 3.37507e-03, loss_ge 6.37915e-04\n"
     ]
    },
    {
     "name": "stderr",
     "output_type": "stream",
     "text": [
      " 41%|████      | 4105/10000 [01:51<02:38, 37.25it/s]"
     ]
    },
    {
     "name": "stdout",
     "output_type": "stream",
     "text": [
      "Epoch       4100, Loss: loss init 5.92458e-03,  loss bdry 3.60865e-03, loss_ge 9.12750e-03\n"
     ]
    },
    {
     "name": "stderr",
     "output_type": "stream",
     "text": [
      " 42%|████▏     | 4205/10000 [01:54<02:37, 36.74it/s]"
     ]
    },
    {
     "name": "stdout",
     "output_type": "stream",
     "text": [
      "Epoch       4200, Loss: loss init 5.27978e-03,  loss bdry 3.13507e-03, loss_ge 4.45692e-03\n"
     ]
    },
    {
     "name": "stderr",
     "output_type": "stream",
     "text": [
      " 43%|████▎     | 4305/10000 [01:57<02:35, 36.55it/s]"
     ]
    },
    {
     "name": "stdout",
     "output_type": "stream",
     "text": [
      "Epoch       4300, Loss: loss init 5.55150e-03,  loss bdry 3.56607e-03, loss_ge 3.19310e-03\n"
     ]
    },
    {
     "name": "stderr",
     "output_type": "stream",
     "text": [
      " 44%|████▍     | 4405/10000 [02:00<02:35, 35.90it/s]"
     ]
    },
    {
     "name": "stdout",
     "output_type": "stream",
     "text": [
      "Epoch       4400, Loss: loss init 5.29045e-03,  loss bdry 3.54028e-03, loss_ge 2.32600e-03\n"
     ]
    },
    {
     "name": "stderr",
     "output_type": "stream",
     "text": [
      " 45%|████▌     | 4505/10000 [02:02<02:31, 36.23it/s]"
     ]
    },
    {
     "name": "stdout",
     "output_type": "stream",
     "text": [
      "Epoch       4500, Loss: loss init 4.97729e-03,  loss bdry 3.29034e-03, loss_ge 3.51432e-03\n"
     ]
    },
    {
     "name": "stderr",
     "output_type": "stream",
     "text": [
      " 46%|████▌     | 4605/10000 [02:05<02:25, 37.13it/s]"
     ]
    },
    {
     "name": "stdout",
     "output_type": "stream",
     "text": [
      "Epoch       4600, Loss: loss init 4.93207e-03,  loss bdry 3.31359e-03, loss_ge 3.26970e-03\n"
     ]
    },
    {
     "name": "stderr",
     "output_type": "stream",
     "text": [
      " 47%|████▋     | 4705/10000 [02:08<02:23, 36.86it/s]"
     ]
    },
    {
     "name": "stdout",
     "output_type": "stream",
     "text": [
      "Epoch       4700, Loss: loss init 4.70456e-03,  loss bdry 3.25157e-03, loss_ge 5.96786e-03\n"
     ]
    },
    {
     "name": "stderr",
     "output_type": "stream",
     "text": [
      " 48%|████▊     | 4805/10000 [02:11<02:25, 35.79it/s]"
     ]
    },
    {
     "name": "stdout",
     "output_type": "stream",
     "text": [
      "Epoch       4800, Loss: loss init 4.69732e-03,  loss bdry 3.36034e-03, loss_ge 5.68608e-03\n"
     ]
    },
    {
     "name": "stderr",
     "output_type": "stream",
     "text": [
      " 49%|████▉     | 4905/10000 [02:13<02:18, 36.83it/s]"
     ]
    },
    {
     "name": "stdout",
     "output_type": "stream",
     "text": [
      "Epoch       4900, Loss: loss init 4.54791e-03,  loss bdry 3.36187e-03, loss_ge 7.41262e-03\n"
     ]
    },
    {
     "name": "stderr",
     "output_type": "stream",
     "text": [
      " 50%|█████     | 5005/10000 [02:16<02:16, 36.69it/s]"
     ]
    },
    {
     "name": "stdout",
     "output_type": "stream",
     "text": [
      "Epoch       5000, Loss: loss init 4.27734e-03,  loss bdry 3.48528e-03, loss_ge 1.31048e-03\n"
     ]
    },
    {
     "name": "stderr",
     "output_type": "stream",
     "text": [
      " 51%|█████     | 5105/10000 [02:19<02:11, 37.32it/s]"
     ]
    },
    {
     "name": "stdout",
     "output_type": "stream",
     "text": [
      "Epoch       5100, Loss: loss init 4.29704e-03,  loss bdry 3.07318e-03, loss_ge 9.00669e-04\n"
     ]
    },
    {
     "name": "stderr",
     "output_type": "stream",
     "text": [
      " 52%|█████▏    | 5205/10000 [02:21<02:08, 37.22it/s]"
     ]
    },
    {
     "name": "stdout",
     "output_type": "stream",
     "text": [
      "Epoch       5200, Loss: loss init 4.08174e-03,  loss bdry 2.84558e-03, loss_ge 3.73847e-03\n"
     ]
    },
    {
     "name": "stderr",
     "output_type": "stream",
     "text": [
      " 53%|█████▎    | 5305/10000 [02:24<02:08, 36.61it/s]"
     ]
    },
    {
     "name": "stdout",
     "output_type": "stream",
     "text": [
      "Epoch       5300, Loss: loss init 4.17717e-03,  loss bdry 3.20070e-03, loss_ge 5.47809e-03\n"
     ]
    },
    {
     "name": "stderr",
     "output_type": "stream",
     "text": [
      " 54%|█████▍    | 5405/10000 [02:27<02:07, 35.90it/s]"
     ]
    },
    {
     "name": "stdout",
     "output_type": "stream",
     "text": [
      "Epoch       5400, Loss: loss init 4.69379e-03,  loss bdry 3.61207e-03, loss_ge 1.42342e-03\n"
     ]
    },
    {
     "name": "stderr",
     "output_type": "stream",
     "text": [
      " 55%|█████▌    | 5505/10000 [02:30<02:03, 36.40it/s]"
     ]
    },
    {
     "name": "stdout",
     "output_type": "stream",
     "text": [
      "Epoch       5500, Loss: loss init 3.96064e-03,  loss bdry 2.76336e-03, loss_ge 2.45947e-03\n"
     ]
    },
    {
     "name": "stderr",
     "output_type": "stream",
     "text": [
      " 56%|█████▌    | 5605/10000 [02:32<02:01, 36.30it/s]"
     ]
    },
    {
     "name": "stdout",
     "output_type": "stream",
     "text": [
      "Epoch       5600, Loss: loss init 4.13737e-03,  loss bdry 3.42927e-03, loss_ge 4.38696e-03\n"
     ]
    },
    {
     "name": "stderr",
     "output_type": "stream",
     "text": [
      " 57%|█████▋    | 5705/10000 [02:35<01:56, 36.99it/s]"
     ]
    },
    {
     "name": "stdout",
     "output_type": "stream",
     "text": [
      "Epoch       5700, Loss: loss init 3.80495e-03,  loss bdry 2.72404e-03, loss_ge 1.83187e-03\n"
     ]
    },
    {
     "name": "stderr",
     "output_type": "stream",
     "text": [
      " 58%|█████▊    | 5805/10000 [02:38<01:57, 35.78it/s]"
     ]
    },
    {
     "name": "stdout",
     "output_type": "stream",
     "text": [
      "Epoch       5800, Loss: loss init 4.51167e-03,  loss bdry 3.52520e-03, loss_ge 2.05439e-03\n"
     ]
    },
    {
     "name": "stderr",
     "output_type": "stream",
     "text": [
      " 59%|█████▉    | 5905/10000 [02:41<01:54, 35.92it/s]"
     ]
    },
    {
     "name": "stdout",
     "output_type": "stream",
     "text": [
      "Epoch       5900, Loss: loss init 3.73373e-03,  loss bdry 2.75624e-03, loss_ge 7.27879e-03\n"
     ]
    },
    {
     "name": "stderr",
     "output_type": "stream",
     "text": [
      " 60%|██████    | 6005/10000 [02:43<01:49, 36.39it/s]"
     ]
    },
    {
     "name": "stdout",
     "output_type": "stream",
     "text": [
      "Epoch       6000, Loss: loss init 3.72805e-03,  loss bdry 2.54558e-03, loss_ge 2.70762e-03\n"
     ]
    },
    {
     "name": "stderr",
     "output_type": "stream",
     "text": [
      " 61%|██████    | 6105/10000 [02:46<01:44, 37.30it/s]"
     ]
    },
    {
     "name": "stdout",
     "output_type": "stream",
     "text": [
      "Epoch       6100, Loss: loss init 4.02281e-03,  loss bdry 2.95844e-03, loss_ge 7.72064e-04\n"
     ]
    },
    {
     "name": "stderr",
     "output_type": "stream",
     "text": [
      " 62%|██████▏   | 6205/10000 [02:49<01:42, 37.12it/s]"
     ]
    },
    {
     "name": "stdout",
     "output_type": "stream",
     "text": [
      "Epoch       6200, Loss: loss init 4.05866e-03,  loss bdry 3.19688e-03, loss_ge 7.51301e-04\n"
     ]
    },
    {
     "name": "stderr",
     "output_type": "stream",
     "text": [
      " 63%|██████▎   | 6305/10000 [02:51<01:38, 37.50it/s]"
     ]
    },
    {
     "name": "stdout",
     "output_type": "stream",
     "text": [
      "Epoch       6300, Loss: loss init 3.61576e-03,  loss bdry 2.29500e-03, loss_ge 4.91968e-04\n"
     ]
    },
    {
     "name": "stderr",
     "output_type": "stream",
     "text": [
      " 64%|██████▍   | 6405/10000 [02:54<01:39, 36.16it/s]"
     ]
    },
    {
     "name": "stdout",
     "output_type": "stream",
     "text": [
      "Epoch       6400, Loss: loss init 3.41694e-03,  loss bdry 2.40034e-03, loss_ge 3.87711e-03\n"
     ]
    },
    {
     "name": "stderr",
     "output_type": "stream",
     "text": [
      " 65%|██████▌   | 6505/10000 [02:57<01:33, 37.36it/s]"
     ]
    },
    {
     "name": "stdout",
     "output_type": "stream",
     "text": [
      "Epoch       6500, Loss: loss init 3.46160e-03,  loss bdry 2.46323e-03, loss_ge 8.30756e-03\n"
     ]
    },
    {
     "name": "stderr",
     "output_type": "stream",
     "text": [
      " 66%|██████▌   | 6605/10000 [02:59<01:31, 37.23it/s]"
     ]
    },
    {
     "name": "stdout",
     "output_type": "stream",
     "text": [
      "Epoch       6600, Loss: loss init 3.65288e-03,  loss bdry 2.63262e-03, loss_ge 4.18574e-03\n"
     ]
    },
    {
     "name": "stderr",
     "output_type": "stream",
     "text": [
      " 67%|██████▋   | 6705/10000 [03:02<01:28, 37.22it/s]"
     ]
    },
    {
     "name": "stdout",
     "output_type": "stream",
     "text": [
      "Epoch       6700, Loss: loss init 6.52087e-03,  loss bdry 5.73814e-03, loss_ge 1.06341e-03\n"
     ]
    },
    {
     "name": "stderr",
     "output_type": "stream",
     "text": [
      " 68%|██████▊   | 6805/10000 [03:05<01:25, 37.46it/s]"
     ]
    },
    {
     "name": "stdout",
     "output_type": "stream",
     "text": [
      "Epoch       6800, Loss: loss init 3.34035e-03,  loss bdry 2.15218e-03, loss_ge 4.85649e-04\n"
     ]
    },
    {
     "name": "stderr",
     "output_type": "stream",
     "text": [
      " 69%|██████▉   | 6905/10000 [03:08<01:23, 36.89it/s]"
     ]
    },
    {
     "name": "stdout",
     "output_type": "stream",
     "text": [
      "Epoch       6900, Loss: loss init 3.67337e-03,  loss bdry 3.25728e-03, loss_ge 2.50882e-03\n"
     ]
    },
    {
     "name": "stderr",
     "output_type": "stream",
     "text": [
      " 70%|███████   | 7005/10000 [03:10<01:19, 37.44it/s]"
     ]
    },
    {
     "name": "stdout",
     "output_type": "stream",
     "text": [
      "Epoch       7000, Loss: loss init 3.32836e-03,  loss bdry 2.37718e-03, loss_ge 5.12813e-04\n"
     ]
    },
    {
     "name": "stderr",
     "output_type": "stream",
     "text": [
      " 71%|███████   | 7105/10000 [03:13<01:17, 37.30it/s]"
     ]
    },
    {
     "name": "stdout",
     "output_type": "stream",
     "text": [
      "Epoch       7100, Loss: loss init 4.33093e-03,  loss bdry 3.73343e-03, loss_ge 1.44572e-03\n"
     ]
    },
    {
     "name": "stderr",
     "output_type": "stream",
     "text": [
      " 72%|███████▏  | 7205/10000 [03:16<01:15, 37.17it/s]"
     ]
    },
    {
     "name": "stdout",
     "output_type": "stream",
     "text": [
      "Epoch       7200, Loss: loss init 3.76187e-03,  loss bdry 2.79893e-03, loss_ge 2.83293e-03\n"
     ]
    },
    {
     "name": "stderr",
     "output_type": "stream",
     "text": [
      " 73%|███████▎  | 7305/10000 [03:18<01:12, 37.34it/s]"
     ]
    },
    {
     "name": "stdout",
     "output_type": "stream",
     "text": [
      "Epoch       7300, Loss: loss init 3.15975e-03,  loss bdry 2.23309e-03, loss_ge 2.59635e-03\n"
     ]
    },
    {
     "name": "stderr",
     "output_type": "stream",
     "text": [
      " 74%|███████▍  | 7405/10000 [03:21<01:09, 37.43it/s]"
     ]
    },
    {
     "name": "stdout",
     "output_type": "stream",
     "text": [
      "Epoch       7400, Loss: loss init 3.08658e-03,  loss bdry 2.13845e-03, loss_ge 1.31690e-03\n"
     ]
    },
    {
     "name": "stderr",
     "output_type": "stream",
     "text": [
      " 75%|███████▌  | 7505/10000 [03:24<01:09, 35.75it/s]"
     ]
    },
    {
     "name": "stdout",
     "output_type": "stream",
     "text": [
      "Epoch       7500, Loss: loss init 4.38890e-03,  loss bdry 3.41357e-03, loss_ge 1.56750e-03\n"
     ]
    },
    {
     "name": "stderr",
     "output_type": "stream",
     "text": [
      " 76%|███████▌  | 7605/10000 [03:27<01:05, 36.78it/s]"
     ]
    },
    {
     "name": "stdout",
     "output_type": "stream",
     "text": [
      "Epoch       7600, Loss: loss init 3.10404e-03,  loss bdry 1.95871e-03, loss_ge 2.59540e-03\n"
     ]
    },
    {
     "name": "stderr",
     "output_type": "stream",
     "text": [
      " 77%|███████▋  | 7705/10000 [03:29<01:01, 37.49it/s]"
     ]
    },
    {
     "name": "stdout",
     "output_type": "stream",
     "text": [
      "Epoch       7700, Loss: loss init 4.50661e-03,  loss bdry 3.90240e-03, loss_ge 1.78732e-03\n"
     ]
    },
    {
     "name": "stderr",
     "output_type": "stream",
     "text": [
      " 78%|███████▊  | 7805/10000 [03:32<00:58, 37.37it/s]"
     ]
    },
    {
     "name": "stdout",
     "output_type": "stream",
     "text": [
      "Epoch       7800, Loss: loss init 3.94880e-03,  loss bdry 3.14926e-03, loss_ge 6.25151e-04\n"
     ]
    },
    {
     "name": "stderr",
     "output_type": "stream",
     "text": [
      " 79%|███████▉  | 7905/10000 [03:35<00:56, 37.03it/s]"
     ]
    },
    {
     "name": "stdout",
     "output_type": "stream",
     "text": [
      "Epoch       7900, Loss: loss init 2.99800e-03,  loss bdry 1.73057e-03, loss_ge 3.15056e-03\n"
     ]
    },
    {
     "name": "stderr",
     "output_type": "stream",
     "text": [
      " 80%|████████  | 8005/10000 [03:37<00:55, 35.95it/s]"
     ]
    },
    {
     "name": "stdout",
     "output_type": "stream",
     "text": [
      "Epoch       8000, Loss: loss init 3.04756e-03,  loss bdry 1.71927e-03, loss_ge 5.71113e-03\n"
     ]
    },
    {
     "name": "stderr",
     "output_type": "stream",
     "text": [
      " 81%|████████  | 8105/10000 [03:40<00:50, 37.19it/s]"
     ]
    },
    {
     "name": "stdout",
     "output_type": "stream",
     "text": [
      "Epoch       8100, Loss: loss init 2.87658e-03,  loss bdry 1.69229e-03, loss_ge 6.10497e-03\n"
     ]
    },
    {
     "name": "stderr",
     "output_type": "stream",
     "text": [
      " 82%|████████▏ | 8205/10000 [03:43<00:47, 37.47it/s]"
     ]
    },
    {
     "name": "stdout",
     "output_type": "stream",
     "text": [
      "Epoch       8200, Loss: loss init 2.96530e-03,  loss bdry 1.81186e-03, loss_ge 1.46225e-03\n"
     ]
    },
    {
     "name": "stderr",
     "output_type": "stream",
     "text": [
      " 83%|████████▎ | 8305/10000 [03:45<00:45, 37.42it/s]"
     ]
    },
    {
     "name": "stdout",
     "output_type": "stream",
     "text": [
      "Epoch       8300, Loss: loss init 2.93034e-03,  loss bdry 2.01690e-03, loss_ge 1.46417e-03\n"
     ]
    },
    {
     "name": "stderr",
     "output_type": "stream",
     "text": [
      " 84%|████████▍ | 8405/10000 [03:48<00:43, 36.80it/s]"
     ]
    },
    {
     "name": "stdout",
     "output_type": "stream",
     "text": [
      "Epoch       8400, Loss: loss init 2.78878e-03,  loss bdry 1.62960e-03, loss_ge 2.99298e-03\n"
     ]
    },
    {
     "name": "stderr",
     "output_type": "stream",
     "text": [
      " 85%|████████▌ | 8505/10000 [03:51<00:40, 36.97it/s]"
     ]
    },
    {
     "name": "stdout",
     "output_type": "stream",
     "text": [
      "Epoch       8500, Loss: loss init 3.42910e-03,  loss bdry 1.96789e-03, loss_ge 3.97594e-03\n"
     ]
    },
    {
     "name": "stderr",
     "output_type": "stream",
     "text": [
      " 86%|████████▌ | 8605/10000 [03:53<00:38, 36.09it/s]"
     ]
    },
    {
     "name": "stdout",
     "output_type": "stream",
     "text": [
      "Epoch       8600, Loss: loss init 2.87903e-03,  loss bdry 1.83791e-03, loss_ge 9.27668e-04\n"
     ]
    },
    {
     "name": "stderr",
     "output_type": "stream",
     "text": [
      " 87%|████████▋ | 8705/10000 [03:56<00:35, 36.71it/s]"
     ]
    },
    {
     "name": "stdout",
     "output_type": "stream",
     "text": [
      "Epoch       8700, Loss: loss init 3.22899e-03,  loss bdry 2.02048e-03, loss_ge 1.00958e-03\n"
     ]
    },
    {
     "name": "stderr",
     "output_type": "stream",
     "text": [
      " 88%|████████▊ | 8805/10000 [03:59<00:32, 36.71it/s]"
     ]
    },
    {
     "name": "stdout",
     "output_type": "stream",
     "text": [
      "Epoch       8800, Loss: loss init 2.70010e-03,  loss bdry 1.62534e-03, loss_ge 2.50858e-03\n"
     ]
    },
    {
     "name": "stderr",
     "output_type": "stream",
     "text": [
      " 89%|████████▉ | 8905/10000 [04:02<00:29, 36.93it/s]"
     ]
    },
    {
     "name": "stdout",
     "output_type": "stream",
     "text": [
      "Epoch       8900, Loss: loss init 2.68102e-03,  loss bdry 1.46563e-03, loss_ge 4.80216e-04\n"
     ]
    },
    {
     "name": "stderr",
     "output_type": "stream",
     "text": [
      " 90%|█████████ | 9005/10000 [04:04<00:26, 37.32it/s]"
     ]
    },
    {
     "name": "stdout",
     "output_type": "stream",
     "text": [
      "Epoch       9000, Loss: loss init 3.20551e-03,  loss bdry 1.55036e-03, loss_ge 7.44345e-03\n"
     ]
    },
    {
     "name": "stderr",
     "output_type": "stream",
     "text": [
      " 91%|█████████ | 9105/10000 [04:07<00:23, 37.38it/s]"
     ]
    },
    {
     "name": "stdout",
     "output_type": "stream",
     "text": [
      "Epoch       9100, Loss: loss init 3.41238e-03,  loss bdry 2.28420e-03, loss_ge 1.71158e-03\n"
     ]
    },
    {
     "name": "stderr",
     "output_type": "stream",
     "text": [
      " 92%|█████████▏| 9205/10000 [04:10<00:21, 37.00it/s]"
     ]
    },
    {
     "name": "stdout",
     "output_type": "stream",
     "text": [
      "Epoch       9200, Loss: loss init 2.60874e-03,  loss bdry 1.38012e-03, loss_ge 1.08203e-03\n"
     ]
    },
    {
     "name": "stderr",
     "output_type": "stream",
     "text": [
      " 93%|█████████▎| 9305/10000 [04:12<00:18, 37.22it/s]"
     ]
    },
    {
     "name": "stdout",
     "output_type": "stream",
     "text": [
      "Epoch       9300, Loss: loss init 2.99266e-03,  loss bdry 1.73939e-03, loss_ge 8.44634e-04\n"
     ]
    },
    {
     "name": "stderr",
     "output_type": "stream",
     "text": [
      " 94%|█████████▍| 9405/10000 [04:15<00:15, 37.45it/s]"
     ]
    },
    {
     "name": "stdout",
     "output_type": "stream",
     "text": [
      "Epoch       9400, Loss: loss init 2.58309e-03,  loss bdry 1.55201e-03, loss_ge 2.43328e-03\n"
     ]
    },
    {
     "name": "stderr",
     "output_type": "stream",
     "text": [
      " 95%|█████████▌| 9505/10000 [04:18<00:13, 37.37it/s]"
     ]
    },
    {
     "name": "stdout",
     "output_type": "stream",
     "text": [
      "Epoch       9500, Loss: loss init 2.58980e-03,  loss bdry 1.28431e-03, loss_ge 1.65770e-03\n"
     ]
    },
    {
     "name": "stderr",
     "output_type": "stream",
     "text": [
      " 96%|█████████▌| 9605/10000 [04:20<00:10, 37.24it/s]"
     ]
    },
    {
     "name": "stdout",
     "output_type": "stream",
     "text": [
      "Epoch       9600, Loss: loss init 2.98126e-03,  loss bdry 2.55439e-03, loss_ge 1.25978e-03\n"
     ]
    },
    {
     "name": "stderr",
     "output_type": "stream",
     "text": [
      " 97%|█████████▋| 9705/10000 [04:23<00:08, 36.38it/s]"
     ]
    },
    {
     "name": "stdout",
     "output_type": "stream",
     "text": [
      "Epoch       9700, Loss: loss init 2.49802e-03,  loss bdry 1.28244e-03, loss_ge 1.15845e-03\n"
     ]
    },
    {
     "name": "stderr",
     "output_type": "stream",
     "text": [
      " 98%|█████████▊| 9805/10000 [04:26<00:05, 37.28it/s]"
     ]
    },
    {
     "name": "stdout",
     "output_type": "stream",
     "text": [
      "Epoch       9800, Loss: loss init 2.80120e-03,  loss bdry 1.07931e-03, loss_ge 1.53226e-03\n"
     ]
    },
    {
     "name": "stderr",
     "output_type": "stream",
     "text": [
      " 99%|█████████▉| 9905/10000 [04:29<00:02, 37.47it/s]"
     ]
    },
    {
     "name": "stdout",
     "output_type": "stream",
     "text": [
      "Epoch       9900, Loss: loss init 3.82115e-03,  loss bdry 2.91833e-03, loss_ge 4.02267e-03\n"
     ]
    },
    {
     "name": "stderr",
     "output_type": "stream",
     "text": [
      "100%|██████████| 10000/10000 [04:31<00:00, 36.82it/s]"
     ]
    },
    {
     "name": "stdout",
     "output_type": "stream",
     "text": [
      "Epoch      10000, Loss: loss init 2.40977e-03,  loss bdry 1.57091e-03, loss_ge 1.38800e-03\n",
      "Training Finished.\n"
     ]
    },
    {
     "name": "stderr",
     "output_type": "stream",
     "text": [
      "\n"
     ]
    }
   ],
   "source": [
    "loss_list = []\n",
    "for i in tqdm(range(1, epochs+1)):\n",
    "    optimizer.zero_grad()\n",
    "\n",
    "    # Prediction\n",
    "    output = model(true_grid) # Grid prediction\n",
    "    output_init = model(x_init) # Term prediction\n",
    "    output_bdry = model(x_bdry) # Boundary prediction\n",
    "    output_cal = output.view(-1, 1)\n",
    "\n",
    "    # print(output)\n",
    "\n",
    "\n",
    "    grad_output = derivative(output, true_grid)\n",
    "    # print(grad_output, \"u\")\n",
    "    # grad_output = derivative(output, dom_grid[:, 1])\n",
    "    # time_output = derivative(output, dom_grid[:, 0])\n",
    "    # print(grad_output)\n",
    "    output_t = grad_output[:, 0].view(-1, 1)\n",
    "    output_x = grad_output[:, 1].view(-1, 1)\n",
    "    # output_xx = derivative(grad_output[:, 1], true_grid)[:, 1].view(-1, 1)\n",
    "    output_xx = derivative(grad_output[:, 1], true_grid)[:, 1].view(-1, 1)\n",
    "    # print(output_t,'\\n', output_x, '\\n', output_xx) if i is 1 else None\n",
    "    # print(output_cal, output_cal+ true_grid[:, 1].view(-1,1))\n",
    "    # print(output_cal.size(), output_init.size(), output_bdry.size()) if i == 1 else None\n",
    "    # print(grad_output.size(), output_t.size(), output_x.size(), output_xx.size()) if i == 1 else None\n",
    "    # print(v_term.size(), v_bdry.size(), x_bdry.size()) if i == 1 else None\n",
    "\n",
    "    # Loss\n",
    "    loss_init = loss_fn(output_init, v_init)\n",
    "    loss_bdry = loss_fn(output_bdry, v_bdry)\n",
    "    PDE = given_PDE(output_cal, output_t, output_x, output_xx, mu, r, sigma, true_grid[:, 1].view(-1,1), gamma, rho)\n",
    "    # print(PDE)\n",
    "    loss_ge = loss_fn(PDE, torch.zeros_like(PDE))\n",
    "    # print(loss_init)\n",
    "    # print(loss_bdry)\n",
    "    # print(loss_ge)\n",
    "    loss = loss_ge + loss_init + loss_bdry\n",
    "    loss.backward()\n",
    "\n",
    "    optimizer.step()\n",
    "\n",
    "    loss_list.append(loss.item())\n",
    "\n",
    "    if not i % 500:\n",
    "        print(f\"Epoch {i:10d}, Loss: loss init {loss_init:10.5e},  loss bdry {loss_bdry:10.5e}, loss_ge {loss_ge:10.5e}\")\n",
    "\n",
    "print(\"Training Finished.\")"
   ]
  },
  {
   "cell_type": "code",
   "execution_count": 17,
   "id": "MmRmlSaA8mY2",
   "metadata": {
    "colab": {
     "background_save": true
    },
    "id": "MmRmlSaA8mY2",
    "outputId": "b5353d05-436b-4f02-a699-26119527671a"
   },
   "outputs": [
    {
     "data": {
      "image/png": "[encoded data removed]",
      "text/plain": [
       "<Figure size 640x480 with 1 Axes>"
      ]
     },
     "metadata": {},
     "output_type": "display_data"
    },
    {
     "name": "stdout",
     "output_type": "stream",
     "text": [
      "0.005368671379983425\n"
     ]
    }
   ],
   "source": [
    "plt.plot(np.linspace(0, epochs, epochs), np.array(loss_list))\n",
    "plt.title(\"Trainging Loss\")\n",
    "plt.xlabel(\"Epoch\")\n",
    "plt.ylabel(\"Loss\")\n",
    "plt.grid(True)\n",
    "plt.savefig(\"Training Loss\")\n",
    "plt.show()\n",
    "print(loss_list[-1])"
   ]
  },
  {
   "cell_type": "markdown",
   "id": "f6ifWiwj-2_p",
   "metadata": {
    "id": "f6ifWiwj-2_p"
   },
   "source": [
    "## To CPU"
   ]
  },
  {
   "cell_type": "code",
   "execution_count": 18,
   "id": "r9wowpMH-5p0",
   "metadata": {
    "colab": {
     "background_save": true
    },
    "id": "r9wowpMH-5p0"
   },
   "outputs": [],
   "source": [
    "true_grid = true_grid.cpu().detach().numpy()\n",
    "output = output.cpu().detach().numpy() # Grid prediction\n",
    "output_init =  output_init.cpu().detach().numpy()# Term prediction\n",
    "output_bdry = output_bdry.cpu().detach().numpy() # Boundary prediction\n",
    "# output_cal = output.view(-1, 1)\n"
   ]
  },
  {
   "cell_type": "code",
   "execution_count": 20,
   "id": "dmBBqQWLBoTD",
   "metadata": {
    "colab": {
     "background_save": true
    },
    "id": "dmBBqQWLBoTD"
   },
   "outputs": [],
   "source": [
    "output1 = output.reshape(n_t-1, n_x-2)"
   ]
  },
  {
   "cell_type": "code",
   "execution_count": 21,
   "id": "5260da24-49dd-421b-840b-c36159c1657e",
   "metadata": {},
   "outputs": [],
   "source": [
    "full_mesh = np.zeros_like(tot_grid[0])\n",
    "full_mesh[0, :].shape\n",
    "full_mesh[0, :] = output_init[:,0]\n",
    "full_mesh[1:, 1:-1] = output1\n",
    "full_mesh[1:, 0] = output_bdry.reshape(n_t, 2)[1:,0]\n",
    "full_mesh[1:, -1] = output_bdry.reshape(n_t, 2)[1:, -1]"
   ]
  },
  {
   "cell_type": "code",
   "execution_count": 24,
   "id": "e087f18c-00a1-40dc-91f9-c0bc55c51e88",
   "metadata": {},
   "outputs": [],
   "source": [
    "np.save('pinn.npy', full_mesh)"
   ]
  },
  {
   "cell_type": "code",
   "execution_count": 22,
   "id": "-QgUv2tLIVqF",
   "metadata": {
    "colab": {
     "background_save": true
    },
    "id": "-QgUv2tLIVqF",
    "outputId": "cc26a899-f329-4b31-faca-742fb0d9b34e"
   },
   "outputs": [],
   "source": [
    "exact = exact_sol(tot_grid[0], tot_grid[1], mu, gamma, eps, sigma, r)"
   ]
  },
  {
   "cell_type": "code",
   "execution_count": 23,
   "id": "0fa40464-cdc1-456a-b62a-a235d2f29bf4",
   "metadata": {},
   "outputs": [],
   "source": [
    "np.save(\"exact_mesh\", exact)"
   ]
  },
  {
   "cell_type": "code",
   "execution_count": 25,
   "id": "832be5ab-c5ba-4a8f-83e3-e7d3540c0a8e",
   "metadata": {
    "colab": {
     "background_save": true
    },
    "id": "832be5ab-c5ba-4a8f-83e3-e7d3540c0a8e"
   },
   "outputs": [
    {
     "name": "stdout",
     "output_type": "stream",
     "text": [
      "[[0.         0.04663141 0.07575294 ... 1.1466179  1.1548797  1.1631163 ]\n",
      " [0.         0.04702381 0.0763904  ... 1.1562666  1.1645979  1.1729038 ]\n",
      " [0.         0.04740908 0.07701629 ... 1.1657401  1.1741397  1.1825137 ]\n",
      " ...\n",
      " [0.         0.10062587 0.1634672  ... 2.4742854  2.4921136  2.5098875 ]\n",
      " [0.         0.10071512 0.16361219 ... 2.47648    2.4943242  2.5121136 ]\n",
      " [0.         0.10080424 0.16375697 ... 2.4786716  2.4965312  2.5143366 ]]\n"
     ]
    },
    {
     "data": {
      "image/png": "[encoded data removed]",
      "text/plain": [
       "<Figure size 640x480 with 3 Axes>"
      ]
     },
     "metadata": {},
     "output_type": "display_data"
    }
   ],
   "source": [
    "import numpy as np\n",
    "import matplotlib.pyplot as plt\n",
    "from mpl_toolkits.mplot3d import Axes3D\n",
    "\n",
    "# Create a meshgrid for x and y\n",
    "x = tot_grid[0]\n",
    "# print(x)\n",
    "y = tot_grid[1]\n",
    "# x, y = np.meshgrid(x, y)\n",
    "\n",
    "# Define the function f(x, y)\n",
    "def f(x, y):\n",
    "    return exact_sol(x, y, mu, gamma, eps, sigma, r)\n",
    "\n",
    "# Compute the function values\n",
    "z = f(x, y)\n",
    "print(z.numpy())\n",
    "\n",
    "# Create a 3D plot\n",
    "fig = plt.figure()\n",
    "ax = fig.add_subplot(131, projection='3d')\n",
    "ax.plot_surface(x, y, z, cmap='viridis')\n",
    "\n",
    "ax1 = fig.add_subplot(132, projection='3d')\n",
    "ax1.plot_surface(x, y, full_mesh, cmap='viridis')\n",
    "\n",
    "ax2 = fig.add_subplot(133, projection='3d')\n",
    "ax2.plot_surface(x, y, np.abs(full_mesh-z.numpy()), cmap='viridis')\n",
    "\n",
    "# Add labels\n",
    "ax.set_title('Exact Solution')\n",
    "ax.set_xlabel('X axis')\n",
    "ax.set_ylabel('Y axis')\n",
    "ax.set_zlabel('Z axis Exact Solution')\n",
    "\n",
    "ax1.set_title('PINN Solution')\n",
    "ax1.set_xlabel('X axis')\n",
    "ax1.set_ylabel('Y axis')\n",
    "ax1.set_zlabel('Z axis PINN Solution')\n",
    "\n",
    "ax2.set_title('Absolute Error')\n",
    "ax2.set_xlabel('X axis')\n",
    "ax2.set_ylabel('Y axis')\n",
    "ax2.set_zlabel('Absolute Error')\n",
    "# Show plot\n",
    "plt.tight_layout()\n",
    "fig.savefig('3d_plots.png')\n",
    "plt.show()\n"
   ]
  },
  {
   "cell_type": "code",
   "execution_count": 26,
   "id": "075829e7-0fd4-47dc-94b2-91d446ccc2a3",
   "metadata": {},
   "outputs": [
    {
     "data": {
      "image/png": "[encoded data removed]",
      "text/plain": [
       "<Figure size 640x480 with 2 Axes>"
      ]
     },
     "metadata": {},
     "output_type": "display_data"
    }
   ],
   "source": [
    "plt.figure()\n",
    "cp = plt.contourf(x, y, np.abs(full_mesh-z.numpy()), cmap='viridis')\n",
    "plt.colorbar(cp)\n",
    "plt.savefig('contour_plot.png')\n",
    "plt.title(\"Error map\")\n",
    "plt.show()"
   ]
  },
  {
   "cell_type": "code",
   "execution_count": null,
   "id": "a9fdb0b9-cff8-41c6-bed4-5ebb6fc2aca5",
   "metadata": {},
   "outputs": [],
   "source": []
  },
  {
   "cell_type": "code",
   "execution_count": null,
   "id": "317c4dde-809f-4081-ade8-8d654a2d03f1",
   "metadata": {},
   "outputs": [],
   "source": []
  },
  {
   "cell_type": "code",
   "execution_count": null,
   "id": "bdb8cd32-27c9-4701-8cd4-96f44587bbfa",
   "metadata": {},
   "outputs": [],
   "source": []
  }
 ],
 "metadata": {
  "accelerator": "GPU",
  "colab": {
   "gpuType": "T4",
   "provenance": []
  },
  "kernelspec": {
   "display_name": "Python 3 (ipykernel)",
   "language": "python",
   "name": "python3"
  },
  "language_info": {
   "codemirror_mode": {
    "name": "ipython",
    "version": 3
   },
   "file_extension": ".py",
   "mimetype": "text/x-python",
   "name": "python",
   "nbconvert_exporter": "python",
   "pygments_lexer": "ipython3",
   "version": "3.11.2"
  }
 },
 "nbformat": 4,
 "nbformat_minor": 5
}
